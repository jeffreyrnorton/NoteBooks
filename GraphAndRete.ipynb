{
 "cells": [
  {
   "cell_type": "markdown",
   "metadata": {
    "collapsed": true
   },
   "source": [
    "# Graph\n",
    "\n",
    "In reality, there is no reason to create a graph with vertex and edge data structures because Azure and AWS both have graph databases: Azure has [CosmosDb](https://azure.microsoft.com/en-us/services/cosmos-db/) and AWS has [Neptune](https://aws.amazon.com/neptune/).  However, my purpose is to explore not only how to implement a potential graph application, but also to explore Rete algorithms a bit.  How do they work?\n",
    "\n",
    "## Implementing Vertices and Edges\n",
    "\n",
    "A few years ago I wrote a graph service around the Titan database.  One thing that impressed me was the lookup time on the database.  Once I learned it, I found [Gremlin](https://en.wikipedia.org/wiki/Gremlin_(programming_language) to be incredibly powerful.  For my purposes, I want the graph to be directional and I want to maintain a dictionary on both vertices and edges for storing information.  For Rete graphs, the graph should be acyclic, but I have not put in any checks for that in my graph.\n",
    "\n",
    "First thing, I want a generator for vertex and edge ids and I need them to be unique."
   ]
  },
  {
   "cell_type": "code",
   "execution_count": 1,
   "metadata": {},
   "outputs": [],
   "source": [
    "import uuid\n",
    "\n",
    "def new_vertex_id():\n",
    "    return uuid.uuid4()\n",
    "\n",
    "def edge_id(vertex1id, vertex2id):\n",
    "    return \"{}.{}\".format(str(vertex1id), str(vertex2id))"
   ]
  },
  {
   "cell_type": "markdown",
   "metadata": {},
   "source": [
    "Create the graph classes.  Because Python (in notebooks - we have no import unless we dump code into a py file) requires us to define things in order, we are going to use inheritance to make sure we can get the proper interdependence to make the graph lean and at least somewhat performant."
   ]
  },
  {
   "cell_type": "code",
   "execution_count": 2,
   "metadata": {},
   "outputs": [],
   "source": [
    "class Base:\n",
    "    def __init__(self):\n",
    "        self.data = {}\n",
    "\n",
    "    def insert_data(self, name, value):\n",
    "        # We will let python generate the exception if the name already in dictionary\n",
    "        self.data[name] = value\n",
    "        \n",
    "    def get_data(self, name):\n",
    "        if name in self.data:\n",
    "            return self.data[name]\n",
    "        return None"
   ]
  },
  {
   "cell_type": "code",
   "execution_count": 3,
   "metadata": {},
   "outputs": [],
   "source": [
    "class VertexBase(Base):\n",
    "    # Constructor\n",
    "    def __init__(self):\n",
    "        super().__init__()\n",
    "        self.id = new_vertex_id()\n",
    "        \n",
    "    def get_id(self):\n",
    "        return self.id\n",
    "    \n",
    "    def print(self):\n",
    "        print(\"Vertex (ID={})\".format(self.id))\n",
    "        print(\"Data: {}\".format(self.data))"
   ]
  },
  {
   "cell_type": "code",
   "execution_count": 4,
   "metadata": {},
   "outputs": [],
   "source": [
    "class EdgeBase(Base):\n",
    "    def __init__(self, v1, v2):\n",
    "        super().__init__()\n",
    "        self.v1 = v1.get_id()\n",
    "        self.v2 = v2.get_id()\n",
    "        \n",
    "    def get_id(self):\n",
    "        return edge_id(self.v1, self.v2)\n",
    "    \n",
    "    def print(self):\n",
    "        print(\"Edge (ID={})\".format(self.get_id()))\n",
    "        print(\"Data: {}\".format(self.data))"
   ]
  },
  {
   "cell_type": "code",
   "execution_count": 5,
   "metadata": {},
   "outputs": [],
   "source": [
    "class Graph:\n",
    "    # Constructor\n",
    "    def __init__(self):\n",
    "        self.vertices = {}\n",
    "        self.edges = {}\n",
    "    \n",
    "    def add_vertex(self, vtx):\n",
    "        self.vertices[vtx.get_id()] = vtx\n",
    "        return vtx\n",
    "    \n",
    "    def add_edge(self, edg):\n",
    "        self.edges[edg.get_id()] = edg\n",
    "        return edg\n",
    "    \n",
    "    def get_vertex(self, vtxid):\n",
    "        if vtxid in self.vertices:\n",
    "            return self.vertices[vtxid]\n",
    "        return None\n",
    "    \n",
    "    def get_edge(self, edgid):\n",
    "        if edgid in self.edges:\n",
    "            return self.edges[edgid]\n",
    "        return None"
   ]
  },
  {
   "cell_type": "code",
   "execution_count": 6,
   "metadata": {},
   "outputs": [],
   "source": [
    "class Vertex(VertexBase):\n",
    "    def __init__(self):\n",
    "        super().__init__()\n",
    "        self.edges = []\n",
    "        self.iv = 0\n",
    "    \n",
    "    def add_edge(self, edge):\n",
    "        self.edges.append(edge.get_id())\n",
    "        \n",
    "    def get_edge(self, graph):\n",
    "        if len(self.edges) <= self.iv:\n",
    "            return None\n",
    "        self.iv = self.iv + 1\n",
    "        return graph.get_edge(self.edges[self.iv-1])\n",
    "    \n",
    "    def get_first_edge(self, graph):\n",
    "        self.iv = 0\n",
    "        return self.get_edge(graph)\n",
    "    \n",
    "    def number_edges(self):\n",
    "        return len(self.edges)\n",
    "    \n",
    "    def print(self):\n",
    "        print(\"VERTEX\")\n",
    "        super().print()\n",
    "        print(\"Edges\")\n",
    "        for i in range(len(self.edges)):\n",
    "            print(self.edges[i])\n",
    "        print(\"\")"
   ]
  },
  {
   "cell_type": "code",
   "execution_count": 7,
   "metadata": {},
   "outputs": [],
   "source": [
    "class Edge(EdgeBase):\n",
    "    def __init__(self, v1, v2):\n",
    "        super().__init__(v1, v2)\n",
    "\n",
    "    def get_vertex1(self, graph):\n",
    "        return graph.get_vertex(self.v1)\n",
    "    \n",
    "    def get_vertex2(self, graph):\n",
    "        return graph.get_vertex(self.v2)\n",
    "    \n",
    "    def print(self):\n",
    "        print(\"EDGE\")\n",
    "        super().print()\n",
    "        print(\"Vertices\")\n",
    "        print(\"Vertex 1: {}\".format(self.v1))\n",
    "        print(\"Vertex 2: {}\".format(self.v2))\n",
    "        print(\"\")"
   ]
  },
  {
   "cell_type": "markdown",
   "metadata": {},
   "source": [
    "When an edge is created, several relations need to be taken care of at one time.  Edges should always be created with the following routine."
   ]
  },
  {
   "cell_type": "code",
   "execution_count": 8,
   "metadata": {},
   "outputs": [],
   "source": [
    "def create_edge(graph, vertex1, vertex2):\n",
    "    e = Edge(vertex1, vertex2)\n",
    "    vertex1.add_edge(e)\n",
    "    vertex2.add_edge(e)\n",
    "    graph.add_edge(e)\n",
    "    return e"
   ]
  },
  {
   "cell_type": "markdown",
   "metadata": {},
   "source": [
    "We don't do a fancy job of viewing the graph.  However, our graphs will be small enought we can just print them out."
   ]
  },
  {
   "cell_type": "code",
   "execution_count": 9,
   "metadata": {},
   "outputs": [],
   "source": [
    "def dump_graph(graph, v, visited = None):\n",
    "    if visited is None:\n",
    "        visited = []\n",
    "    v.print()\n",
    "    e = v.get_first_edge(graph)\n",
    "    while e is not None:\n",
    "        if e.get_id() not in visited:\n",
    "            visited.append(e.get_id())\n",
    "            e.print()\n",
    "            vend = e.get_vertex2(graph)\n",
    "            dump_graph(graph, vend, visited)\n",
    "        e = v.get_edge(graph)"
   ]
  },
  {
   "cell_type": "markdown",
   "metadata": {},
   "source": [
    "Just a little test graph.  Create a simple graph."
   ]
  },
  {
   "cell_type": "code",
   "execution_count": 10,
   "metadata": {},
   "outputs": [
    {
     "name": "stdout",
     "output_type": "stream",
     "text": [
      "VERTEX\n",
      "Vertex (ID=3953b866-b772-43ed-84ac-46cd678dc238)\n",
      "Data: {'test': 'Can I add a test data'}\n",
      "Edges\n",
      "3953b866-b772-43ed-84ac-46cd678dc238.d40be806-ea19-4c87-9b8a-0c820c2887c9\n",
      "\n",
      "EDGE\n",
      "Edge (ID=3953b866-b772-43ed-84ac-46cd678dc238.d40be806-ea19-4c87-9b8a-0c820c2887c9)\n",
      "Data: {}\n",
      "Vertices\n",
      "Vertex 1: 3953b866-b772-43ed-84ac-46cd678dc238\n",
      "Vertex 2: d40be806-ea19-4c87-9b8a-0c820c2887c9\n",
      "\n",
      "VERTEX\n",
      "Vertex (ID=d40be806-ea19-4c87-9b8a-0c820c2887c9)\n",
      "Data: {'test': 'Perhaps?'}\n",
      "Edges\n",
      "3953b866-b772-43ed-84ac-46cd678dc238.d40be806-ea19-4c87-9b8a-0c820c2887c9\n",
      "d40be806-ea19-4c87-9b8a-0c820c2887c9.862c9ca4-1510-4aef-8cc5-7767da488034\n",
      "\n",
      "EDGE\n",
      "Edge (ID=d40be806-ea19-4c87-9b8a-0c820c2887c9.862c9ca4-1510-4aef-8cc5-7767da488034)\n",
      "Data: {}\n",
      "Vertices\n",
      "Vertex 1: d40be806-ea19-4c87-9b8a-0c820c2887c9\n",
      "Vertex 2: 862c9ca4-1510-4aef-8cc5-7767da488034\n",
      "\n",
      "VERTEX\n",
      "Vertex (ID=862c9ca4-1510-4aef-8cc5-7767da488034)\n",
      "Data: {'test': 'We will connect here'}\n",
      "Edges\n",
      "d40be806-ea19-4c87-9b8a-0c820c2887c9.862c9ca4-1510-4aef-8cc5-7767da488034\n",
      "\n"
     ]
    }
   ],
   "source": [
    "g = Graph()\n",
    "v1 = g.add_vertex(Vertex())\n",
    "v1.insert_data('test', 'Can I add a test data')\n",
    "v2 = g.add_vertex(Vertex())\n",
    "v2.insert_data('test', 'Perhaps?')\n",
    "v3 = g.add_vertex(Vertex())\n",
    "v3.insert_data('test', 'We will connect here')\n",
    "e1 = create_edge(g, v1, v2)\n",
    "e2 = create_edge(g, v2, v3)\n",
    "\n",
    "dump_graph(g, v1)"
   ]
  },
  {
   "cell_type": "markdown",
   "metadata": {},
   "source": [
    "Using the first vertex, walk through the graph."
   ]
  },
  {
   "cell_type": "code",
   "execution_count": 11,
   "metadata": {},
   "outputs": [
    {
     "name": "stdout",
     "output_type": "stream",
     "text": [
      "Can I add a test data\n"
     ]
    }
   ],
   "source": [
    "vx1 = g.get_vertex(v1.get_id())\n",
    "print(vx1.get_data('test'))"
   ]
  },
  {
   "cell_type": "code",
   "execution_count": 12,
   "metadata": {},
   "outputs": [
    {
     "name": "stdout",
     "output_type": "stream",
     "text": [
      "Perhaps?\n",
      "We will connect here\n"
     ]
    }
   ],
   "source": [
    "ed1 = vx1.get_first_edge(g)\n",
    "mid_vtx = ed1.get_vertex2(g)\n",
    "print(mid_vtx.get_data('test'))\n",
    "ed2 = mid_vtx.get_first_edge(g)\n",
    "# Don't walk back on the edge we just came from\n",
    "if ed2.get_id() == ed1.get_id():\n",
    "    ed2 = mid_vtx.get_edge(g)\n",
    "end_vtx = ed2.get_vertex2(g)\n",
    "print(end_vtx.get_data('test'))"
   ]
  },
  {
   "cell_type": "markdown",
   "metadata": {},
   "source": [
    "# Rete Algorithm\n",
    "\n",
    "The [Rete Algorithm](https://en.wikipedia.org/wiki/Rete_algorithm) drives rules-based systems.  Apparently systems like Drupal and others use the Rete algorithm.  To the best of my understanding, the Rete algorithm works like walking through a directed graph.  Because it is a graph, it allows us to walk back to a rule and try other options.\n",
    "\n",
    "Unsurprisingly, the Rete Algorithm looks a lot like the Themis patent that we generated for walking through APIs.\n",
    "\n",
    "We are going to use a visited list for edges we have already visited.  In that way, we won't walk down the same path again.  Let's set up a set of rules with just some numbers.  Here are the rules - for some number x (let x = 85);\n",
    "\n",
    "1) If x > 0, then go to rule 2.  If x < 2000, then go to rule 4.  (Both are true)  \n",
    "2) If x > 10, then go to rule 3. (passes)  \n",
    "3) If x < 80, then we are done.  (does not pass)  \n",
    "4) If x < 100, then go to rule 5. (passes)  \n",
    "5) If x > 80, then we are done.  (We pass)  \n",
    "\n",
    "Set up the graph."
   ]
  },
  {
   "cell_type": "code",
   "execution_count": 13,
   "metadata": {},
   "outputs": [
    {
     "name": "stdout",
     "output_type": "stream",
     "text": [
      "VERTEX\n",
      "Vertex (ID=802461cf-f414-4e6e-8236-93869b675f39)\n",
      "Data: {1: 'START'}\n",
      "Edges\n",
      "802461cf-f414-4e6e-8236-93869b675f39.9f3b869e-ad01-4fc8-bdc6-3316d939a11a\n",
      "802461cf-f414-4e6e-8236-93869b675f39.4b08cf09-e0b7-44cd-954a-8951685c20d5\n",
      "\n",
      "EDGE\n",
      "Edge (ID=802461cf-f414-4e6e-8236-93869b675f39.9f3b869e-ad01-4fc8-bdc6-3316d939a11a)\n",
      "Data: {1: ['x', '>', 0]}\n",
      "Vertices\n",
      "Vertex 1: 802461cf-f414-4e6e-8236-93869b675f39\n",
      "Vertex 2: 9f3b869e-ad01-4fc8-bdc6-3316d939a11a\n",
      "\n",
      "VERTEX\n",
      "Vertex (ID=9f3b869e-ad01-4fc8-bdc6-3316d939a11a)\n",
      "Data: {}\n",
      "Edges\n",
      "802461cf-f414-4e6e-8236-93869b675f39.9f3b869e-ad01-4fc8-bdc6-3316d939a11a\n",
      "9f3b869e-ad01-4fc8-bdc6-3316d939a11a.18ea3068-57f5-4fe7-a3bf-167209912405\n",
      "\n",
      "EDGE\n",
      "Edge (ID=9f3b869e-ad01-4fc8-bdc6-3316d939a11a.18ea3068-57f5-4fe7-a3bf-167209912405)\n",
      "Data: {1: ['x', '>', 10]}\n",
      "Vertices\n",
      "Vertex 1: 9f3b869e-ad01-4fc8-bdc6-3316d939a11a\n",
      "Vertex 2: 18ea3068-57f5-4fe7-a3bf-167209912405\n",
      "\n",
      "VERTEX\n",
      "Vertex (ID=18ea3068-57f5-4fe7-a3bf-167209912405)\n",
      "Data: {}\n",
      "Edges\n",
      "9f3b869e-ad01-4fc8-bdc6-3316d939a11a.18ea3068-57f5-4fe7-a3bf-167209912405\n",
      "18ea3068-57f5-4fe7-a3bf-167209912405.6d30e95b-60b1-458d-bbfb-1b17bc7b1740\n",
      "\n",
      "EDGE\n",
      "Edge (ID=18ea3068-57f5-4fe7-a3bf-167209912405.6d30e95b-60b1-458d-bbfb-1b17bc7b1740)\n",
      "Data: {1: ['x', '<', 80]}\n",
      "Vertices\n",
      "Vertex 1: 18ea3068-57f5-4fe7-a3bf-167209912405\n",
      "Vertex 2: 6d30e95b-60b1-458d-bbfb-1b17bc7b1740\n",
      "\n",
      "VERTEX\n",
      "Vertex (ID=6d30e95b-60b1-458d-bbfb-1b17bc7b1740)\n",
      "Data: {1: 'TERMINAL'}\n",
      "Edges\n",
      "18ea3068-57f5-4fe7-a3bf-167209912405.6d30e95b-60b1-458d-bbfb-1b17bc7b1740\n",
      "\n",
      "EDGE\n",
      "Edge (ID=802461cf-f414-4e6e-8236-93869b675f39.4b08cf09-e0b7-44cd-954a-8951685c20d5)\n",
      "Data: {1: ['x', '<', 2000]}\n",
      "Vertices\n",
      "Vertex 1: 802461cf-f414-4e6e-8236-93869b675f39\n",
      "Vertex 2: 4b08cf09-e0b7-44cd-954a-8951685c20d5\n",
      "\n",
      "VERTEX\n",
      "Vertex (ID=4b08cf09-e0b7-44cd-954a-8951685c20d5)\n",
      "Data: {}\n",
      "Edges\n",
      "802461cf-f414-4e6e-8236-93869b675f39.4b08cf09-e0b7-44cd-954a-8951685c20d5\n",
      "4b08cf09-e0b7-44cd-954a-8951685c20d5.a904baa1-7631-4ce4-9ff5-4d002af6087e\n",
      "\n",
      "EDGE\n",
      "Edge (ID=4b08cf09-e0b7-44cd-954a-8951685c20d5.a904baa1-7631-4ce4-9ff5-4d002af6087e)\n",
      "Data: {1: ['x', '<', 100]}\n",
      "Vertices\n",
      "Vertex 1: 4b08cf09-e0b7-44cd-954a-8951685c20d5\n",
      "Vertex 2: a904baa1-7631-4ce4-9ff5-4d002af6087e\n",
      "\n",
      "VERTEX\n",
      "Vertex (ID=a904baa1-7631-4ce4-9ff5-4d002af6087e)\n",
      "Data: {}\n",
      "Edges\n",
      "4b08cf09-e0b7-44cd-954a-8951685c20d5.a904baa1-7631-4ce4-9ff5-4d002af6087e\n",
      "a904baa1-7631-4ce4-9ff5-4d002af6087e.0560e61d-5ada-4dac-8595-b3212b3ffaec\n",
      "\n",
      "EDGE\n",
      "Edge (ID=a904baa1-7631-4ce4-9ff5-4d002af6087e.0560e61d-5ada-4dac-8595-b3212b3ffaec)\n",
      "Data: {1: ['x', '>', 80]}\n",
      "Vertices\n",
      "Vertex 1: a904baa1-7631-4ce4-9ff5-4d002af6087e\n",
      "Vertex 2: 0560e61d-5ada-4dac-8595-b3212b3ffaec\n",
      "\n",
      "VERTEX\n",
      "Vertex (ID=0560e61d-5ada-4dac-8595-b3212b3ffaec)\n",
      "Data: {1: 'TERMINAL'}\n",
      "Edges\n",
      "a904baa1-7631-4ce4-9ff5-4d002af6087e.0560e61d-5ada-4dac-8595-b3212b3ffaec\n",
      "\n"
     ]
    }
   ],
   "source": [
    "g = Graph()\n",
    "start = g.add_vertex(Vertex())\n",
    "start.insert_data(1, \"START\")\n",
    "rule2 = g.add_vertex(Vertex())\n",
    "\n",
    "# The first rule off of the start is x > 0\n",
    "e1 = create_edge(g, start, rule2)\n",
    "e1.insert_data(1, ['x', '>', 0])\n",
    "rule4 = g.add_vertex(Vertex())\n",
    "\n",
    "# The other rule off of the start is x < 2000\n",
    "e2 = create_edge(g, start, rule4)\n",
    "e2.insert_data(1, ['x', '<', 2000])\n",
    "rule3 = g.add_vertex(Vertex())\n",
    "\n",
    "# Rule 2 above is x > 10\n",
    "e3 = create_edge(g, rule2, rule3)\n",
    "e3.insert_data(1, ['x', '>', 10])\n",
    "end_rule1 = g.add_vertex(Vertex())\n",
    "end_rule1.insert_data(1, 'TERMINAL')\n",
    "\n",
    "# This is listed as rule3 - it is our first choice where we successfully pass a set of rules.\n",
    "e4 = create_edge(g, rule3, end_rule1)\n",
    "e4.insert_data(1, ['x', '<', 80])\n",
    "\n",
    "# This is listed as rule 4 going to rule 5\n",
    "rule5 = g.add_vertex(Vertex())\n",
    "e5 = create_edge(g, rule4, rule5)\n",
    "e5.insert_data(1, ['x', '<', 100])\n",
    "\n",
    "end_rule2 = g.add_vertex(Vertex())\n",
    "end_rule2.insert_data(1, 'TERMINAL')\n",
    "e6 = create_edge(g, rule5, end_rule2)\n",
    "e6.insert_data(1, ['x', '>', 80])\n",
    "\n",
    "dump_graph(g, start)\n"
   ]
  },
  {
   "cell_type": "markdown",
   "metadata": {},
   "source": [
    "Set up the rule set using our graph.  There are some gotchas when implementing a Rete algorithm.  One is that you don't want to get stuck walking up rule paths which have already been visited.  Therefore, like the [Dijkstra algorithm](https://en.wikipedia.org/wiki/Dijkstra%27s_algorithm) we will keep a list of visited edges.  The other thing that seems like a good idea to me is to be able to quickly pop back through the path we just walked till we find another edge off a vertex that has not been visited and can test that rule.  Our test value is 85."
   ]
  },
  {
   "cell_type": "code",
   "execution_count": 14,
   "metadata": {},
   "outputs": [
    {
     "name": "stdout",
     "output_type": "stream",
     "text": [
      "RULE : ['x', '>', 0] -> 85 > 0\n",
      "True\n"
     ]
    }
   ],
   "source": [
    "import queue\n",
    "\n",
    "# Test value\n",
    "x = 85\n",
    "\n",
    "# Edges visited\n",
    "visited = []\n",
    "\n",
    "# Path - These are ordered edges of where we just came from.\n",
    "path = queue.LifoQueue()\n",
    "\n",
    "# Define a function for testing our rules.  Very simple - just less than or greater than.\n",
    "def apply_rule(data, x):\n",
    "    print('RULE : {} -> {} {} {}'.format(data, x, data[1], data[2]))\n",
    "    if data[1] == '>':\n",
    "        return x > data[2]\n",
    "    elif data[1] == '<':\n",
    "        return x < data[2]\n",
    "\n",
    "# Try the first rule (edge) from the start.\n",
    "start_choice_1 = start.get_first_edge(g)\n",
    "\n",
    "# Since we haven't visited any edges, go with this one...\n",
    "visited.append(start_choice_1.get_id())\n",
    "path.put(start_choice_1.get_id())\n",
    "\n",
    "# Print the rule check.\n",
    "print(apply_rule(start_choice_1.get_data(1), x))\n"
   ]
  },
  {
   "cell_type": "code",
   "execution_count": 15,
   "metadata": {},
   "outputs": [
    {
     "name": "stdout",
     "output_type": "stream",
     "text": [
      "RULE : ['x', '>', 10] -> 85 > 10\n",
      "True\n"
     ]
    }
   ],
   "source": [
    "# Now get the other vertex because we passed the rule\n",
    "vtx = start_choice_1.get_vertex2(g)\n",
    "\n",
    "# Get the next unvisited edge.\n",
    "next_choice = vtx.get_first_edge(g)\n",
    "if next_choice.get_id() in visited:\n",
    "    next_choice = vtx.get_edge(g)\n",
    "    \n",
    "# Ideally, we check for None (no more rules), but we are just testing the concept here...\n",
    "\n",
    "# Mark visited, add to path\n",
    "visited.append(next_choice.get_id())\n",
    "path.put(next_choice.get_id())\n",
    "\n",
    "# Print the rule check.\n",
    "print(apply_rule(next_choice.get_data(1), x))"
   ]
  },
  {
   "cell_type": "code",
   "execution_count": 16,
   "metadata": {},
   "outputs": [
    {
     "name": "stdout",
     "output_type": "stream",
     "text": [
      "TERMINAL ? = TERMINAL\n",
      "RULE : ['x', '<', 80] -> 85 < 80\n",
      "False\n"
     ]
    }
   ],
   "source": [
    "# Get the other vertex because we passed the rule\n",
    "vtx = next_choice.get_vertex2(g)\n",
    "\n",
    "# Get the next unvisited edge\n",
    "first_way_out = vtx.get_first_edge(g)\n",
    "if first_way_out.get_id() in visited:\n",
    "    first_way_out = vtx.get_edge(g)\n",
    "    \n",
    "# Again, we should check for None, but I know I have one - just running the graph\n",
    "\n",
    "# Mark visited, add to path.\n",
    "visited.append(first_way_out.get_id())\n",
    "path.put(first_way_out.get_id())\n",
    "\n",
    "# Print the rule - did we pass?\n",
    "print('TERMINAL ? = {}'.format(first_way_out.get_vertex2(g).get_data(1)))\n",
    "print(apply_rule(first_way_out.get_data(1), x))"
   ]
  },
  {
   "cell_type": "markdown",
   "metadata": {},
   "source": [
    "We verified that this was the final rule, but we didn't pass the rule.  Now we back up our path (in the LIFO queue) until we find another path."
   ]
  },
  {
   "cell_type": "code",
   "execution_count": 17,
   "metadata": {},
   "outputs": [
    {
     "name": "stdout",
     "output_type": "stream",
     "text": [
      "We do not have a path to go down from here, go another\n",
      "We have an edge to check with ID 802461cf-f414-4e6e-8236-93869b675f39.4b08cf09-e0b7-44cd-954a-8951685c20d5\n"
     ]
    }
   ],
   "source": [
    "# Pop the last edge we put on because we added the edge to the terminal vertex before we checked\n",
    "# that we failed the rule\n",
    "path.get()\n",
    "\n",
    "# We can use out path to back up until we find an edge we have not visisted\n",
    "while not path.empty():\n",
    "    prev_edge_id = path.get()\n",
    "    prev_edge = g.get_edge(prev_edge_id)\n",
    "    fvertex = prev_edge.get_vertex1(g)\n",
    "    anedge = fvertex.get_first_edge(g)\n",
    "        \n",
    "    while anedge is not None and anedge.get_id() in visited:\n",
    "        # Get the next edge\n",
    "        anedge = fvertex.get_edge(g)\n",
    "        \n",
    "    if anedge is None:\n",
    "        print('We do not have a path to go down from here, go another')\n",
    "    else:\n",
    "        print('We have an edge to check with ID {}'.format(anedge.get_id()))\n",
    "        break"
   ]
  },
  {
   "cell_type": "markdown",
   "metadata": {},
   "source": [
    "We know from how we constructed the rule set that we had no other paths to follow until we got back to the very first rule.  Because of that, we know that we have just cleared out path - that whole rule path was invalidated on the last rule.  We are going to have to try another branch in our rule set.  Also, since our path is cleared, we are back to the very first (entry or START) vertex."
   ]
  },
  {
   "cell_type": "code",
   "execution_count": 18,
   "metadata": {},
   "outputs": [
    {
     "name": "stdout",
     "output_type": "stream",
     "text": [
      "Path Empty? True\n",
      "Start Vertex? START\n"
     ]
    }
   ],
   "source": [
    "# Note that we should have emptied the path queue - we know we had to go back to the start.\n",
    "# Let's check it\n",
    "print('Path Empty? {}'.format(path.empty()))\n",
    "print('Start Vertex? {}'.format(anedge.get_vertex1(g).get_data(1)))"
   ]
  },
  {
   "cell_type": "code",
   "execution_count": 19,
   "metadata": {},
   "outputs": [
    {
     "name": "stdout",
     "output_type": "stream",
     "text": [
      "RULE : ['x', '<', 2000] -> 85 < 2000\n",
      "True\n"
     ]
    }
   ],
   "source": [
    "# We have an edge, add to visited and path, then let's check the rule\n",
    "visited.append(anedge.get_id())\n",
    "path.put(anedge.get_id())\n",
    "print(apply_rule(anedge.get_data(1), x))"
   ]
  },
  {
   "cell_type": "code",
   "execution_count": 20,
   "metadata": {},
   "outputs": [
    {
     "name": "stdout",
     "output_type": "stream",
     "text": [
      "TERMINAL ? = None\n",
      "RULE : ['x', '<', 100] -> 85 < 100\n",
      "True\n"
     ]
    }
   ],
   "source": [
    "# Try the next rule\n",
    "vtxx = anedge.get_vertex2(g)\n",
    "second_way_out = vtxx.get_first_edge(g)\n",
    "if second_way_out.get_id() in visited:\n",
    "    second_way_out = vtxx.get_edge(g)\n",
    "\n",
    "# Bookkeeping - add to visited and path\n",
    "visited.append(second_way_out.get_id())\n",
    "path.put(second_way_out.get_id())\n",
    "\n",
    "# Terminal vertex, did we pass the last rule?\n",
    "print('TERMINAL ? = {}'.format(second_way_out.get_vertex2(g).get_data(1)))\n",
    "print(apply_rule(second_way_out.get_data(1), x))\n"
   ]
  },
  {
   "cell_type": "markdown",
   "metadata": {},
   "source": [
    "And since we passed this terminal path, we now have a working set of rules - the ids of those rules are in our path which we print below. For completness, print the rules that were successfully applied."
   ]
  },
  {
   "cell_type": "code",
   "execution_count": 21,
   "metadata": {},
   "outputs": [
    {
     "name": "stdout",
     "output_type": "stream",
     "text": [
      "RULE : ['x', '<', 2000] -> 85 < 2000\n",
      "True\n",
      "RULE : ['x', '<', 100] -> 85 < 100\n",
      "True\n"
     ]
    }
   ],
   "source": [
    "lpath = list(path.queue)\n",
    "for l in lpath:\n",
    "    e = g.get_edge(l)\n",
    "    print(apply_rule(e.get_data(1), x))"
   ]
  },
  {
   "cell_type": "markdown",
   "metadata": {},
   "source": [
    " As I understand it, this is the Rete algorithm implemented on a directed (acyclic) graph."
   ]
  },
  {
   "cell_type": "code",
   "execution_count": null,
   "metadata": {},
   "outputs": [],
   "source": []
  }
 ],
 "metadata": {
  "kernelspec": {
   "display_name": "Python 3.6",
   "language": "python",
   "name": "python36"
  },
  "language_info": {
   "codemirror_mode": {
    "name": "ipython",
    "version": 3
   },
   "file_extension": ".py",
   "mimetype": "text/x-python",
   "name": "python",
   "nbconvert_exporter": "python",
   "pygments_lexer": "ipython3",
   "version": "3.6.3"
  }
 },
 "nbformat": 4,
 "nbformat_minor": 2
}
